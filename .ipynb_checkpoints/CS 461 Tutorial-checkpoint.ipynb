{
 "cells": [
  {
   "cell_type": "markdown",
   "metadata": {},
   "source": [
    "# Making better graphs in Python 3 with Matplotlib and Seaborn.\n",
    "**CS 461 Sauppe, Spring 2020**<br>\n",
    "***Tutorial created by Douglas Krouth***"
   ]
  },
  {
   "cell_type": "markdown",
   "metadata": {},
   "source": [
    "<p><img src=\"Skiena_graph_guide.jpg\" align=\"left\">\n"
   ]
  },
  {
   "cell_type": "markdown",
   "metadata": {},
   "source": [
    "# Why is graph design important?\n",
    "<p>For data scientists, the creation of effective graphics and visualizations is crucial to presenting one's analysis and potential insights. The use of graphical tools allows us to simplify our work by removing unneccessary complexity; this leads to easier interpretation and a greater focus on key points.\n",
    "    \n",
    "<p>When creating a data product that will be used regularly (dashboards, interactive graphs, etc.), it is crucial to incorporate strong visuals as this will enhance user experience and the overall efficiency of the tool. Robust data graphics enable for less time to be spent on interpretation, which frees up time for further analysis or questioning on behalf of the user / audience.\n",
    "    \n",
    "<p> Without the use of well-made graphics, we run the risk of misrepresenting central parts of our analysis. On one end, a poorly made graph may just bore our audience; a graph or chart that is quickly seen and forgotten after the presentation's conclusion. On the other hand, a poorly made visual has the potential to mislead your audience or misconstrue your analysis. Both of these outcomes are suboptimal and should always be avoided.\n",
    "\n",
    "## Quick review: Five principes of effective graph design\n",
    "as written by Edward R. Tufte in *The Visual Display of Quantitative Information* [1]\n",
    "***\n",
    "\n",
    "<p>Above all else show the data. \n",
    "<img src=\"chartjunk.jpg\" width=\"250\" align=\"right\">\n",
    "<p>Maximize the data-ink ratio.\n",
    "<p>Erase non-data ink.\n",
    "<p>Erase redundant data-ink.\n",
    "<p>Revise and edit.\n"
   ]
  },
  {
   "cell_type": "markdown",
   "metadata": {},
   "source": [
    "# Let's get started\n",
    "\n",
    "Listed below are the topics that we'll go over in this tutorial:\n",
    "* [Importing the required libraries](#1)\n",
    "* [Loading the practice datasets](#2)\n",
    "* [Exploratory data analysis: summary stats. and basic Matplotlib graphs](#3)\n",
    "* [Improving our graphs using Seaborn and other tools](#4)\n",
    "* [Creating animated graphs](#5)"
   ]
  },
  {
   "cell_type": "markdown",
   "metadata": {},
   "source": [
    "## 1. Importing the required libraries<a name=\"1\"></a>\n",
    "\n",
    "***\n",
    "**pandas**: Using pandas will allow us to store our data in a DataFrame format; this will be extremely useful for quickly plotting the data and using the *pandas.describe()* function to give us some summary statistics during later steps.<br>\n",
    "* doc: https://pandas.pydata.org/docs/<br>\n",
    "* installation: https://pandas.pydata.org/pandas-docs/stable/getting_started/install.html\n",
    "***\n",
    "\n",
    "**matplotlib.pyplot**: This library is extreme useful for providing us with ready-to-go plots that can be easily modified. Matplotlib is most useful when deployed for basic plotting on things like scatter or line plots, bar charts, and histograms. We will be using this to create our exploratory visuals.<br>\n",
    "* doc: https://matplotlib.org/3.2.1/contents.html\n",
    "* installation: https://matplotlib.org/users/installing.html\n",
    "***\n",
    "\n",
    "**seaborn**: Seaborn is a data visualization library that was based off of Matplotlib for the purpose of providing a much greater variety of visualization patterns. This tool is best used for creating statistical visualizations that require greater degrees of complexity, such as 3-D modeling or multiple visuals overlaid on the same graph.<br>\n",
    "We will also be using the *load_dataset()* from Seaborn to obtain some test datasets that will be used during our demonstration.\n",
    "* doc & tutorials: https://seaborn.pydata.org/tutorial.html\n",
    "* installation: https://seaborn.pydata.org/installing.html\n",
    "* seaborn.load_dataset(): https://seaborn.pydata.org/generated/seaborn.load_dataset.html"
   ]
  },
  {
   "cell_type": "code",
   "execution_count": 2,
   "metadata": {},
   "outputs": [],
   "source": [
    "# IMPORTS\n",
    "import pandas as pd\n",
    "import matplotlib.pyplot as plt\n",
    "import seaborn as sns\n",
    "from sklearn import datasets"
   ]
  },
  {
   "cell_type": "markdown",
   "metadata": {},
   "source": [
    "## 2. Loading the practice datasets<a name=\"2\"></a>\n",
    "***\n",
    "Since we will be using the toy datasets provided by seaborn, this process will be rather simple. The datasets are considered to be canon when it comes to testing models, plotting data, and many other things. This is due to the simplicity of the datasets and how widely accepted they are. Listed below are the provided datasets along with their common use cases.\n",
    "* `Information about each of these sets is provided on the Seaborn datasets doc page listed above.`\n"
   ]
  },
  {
   "cell_type": "code",
   "execution_count": 14,
   "metadata": {},
   "outputs": [],
   "source": [
    "# seaborn code to load the sample data\n",
    "tips_df = sns.load_dataset(\"tips\")"
   ]
  },
  {
   "cell_type": "markdown",
   "metadata": {},
   "source": [
    "## 3. Exploratory data analysis: summary stats. and basic Matplotlib graphs<a name=\"3\"></a>"
   ]
  },
  {
   "cell_type": "code",
   "execution_count": 43,
   "metadata": {},
   "outputs": [
    {
     "name": "stdout",
     "output_type": "stream",
     "text": [
      "Shape (244, 7)\n",
      " \n",
      "   total_bill   tip     sex smoker  day    time  size\n",
      "0       16.99  1.01  Female     No  Sun  Dinner     2\n",
      "1       10.34  1.66    Male     No  Sun  Dinner     3\n",
      "2       21.01  3.50    Male     No  Sun  Dinner     3\n",
      "3       23.68  3.31    Male     No  Sun  Dinner     2\n",
      "4       24.59  3.61  Female     No  Sun  Dinner     4\n",
      "\n",
      "Summary Stats.\n",
      "\n",
      "       total_bill         tip        size\n",
      "count  244.000000  244.000000  244.000000\n",
      "mean    19.785943    2.998279    2.569672\n",
      "std      8.902412    1.383638    0.951100\n",
      "min      3.070000    1.000000    1.000000\n",
      "25%     13.347500    2.000000    2.000000\n",
      "50%     17.795000    2.900000    2.000000\n",
      "75%     24.127500    3.562500    3.000000\n",
      "max     50.810000   10.000000    6.000000\n",
      "\n",
      "DataFrame info\n",
      "\n",
      "<class 'pandas.core.frame.DataFrame'>\n",
      "RangeIndex: 244 entries, 0 to 243\n",
      "Data columns (total 7 columns):\n",
      "total_bill    244 non-null float64\n",
      "tip           244 non-null float64\n",
      "sex           244 non-null category\n",
      "smoker        244 non-null category\n",
      "day           244 non-null category\n",
      "time          244 non-null category\n",
      "size          244 non-null int64\n",
      "dtypes: category(4), float64(2), int64(1)\n",
      "memory usage: 7.2 KB\n",
      "None\n"
     ]
    }
   ],
   "source": [
    "# Summary stats for tips_df\n",
    "print('Shape {}\\n'.format(tips_df.shape), '\\n{}\\n'.format(tips_df.head()))\n",
    "print('Summary Stats.\\n')\n",
    "print(tips_df.describe())\n",
    "print('\\nDataFrame info\\n')\n",
    "print(tips_df.info())"
   ]
  },
  {
   "cell_type": "markdown",
   "metadata": {},
   "source": [
    "## Improving our graphs using Seaborn and other tools<a name=\"4\"></a>"
   ]
  },
  {
   "cell_type": "code",
   "execution_count": null,
   "metadata": {},
   "outputs": [],
   "source": []
  },
  {
   "cell_type": "markdown",
   "metadata": {},
   "source": [
    "## Creating animated graphs <a name=\"5\"></a>"
   ]
  },
  {
   "cell_type": "code",
   "execution_count": null,
   "metadata": {},
   "outputs": [],
   "source": []
  },
  {
   "cell_type": "markdown",
   "metadata": {},
   "source": [
    "# Citations\n",
    "### References\n",
    "<ol>\n",
    "<li> Edward R. Tufte (2001). Pt. 2, Ch. 4 Data-Ink and Graphical Redesign; Pt. 2, Ch.6 Data-Ink Mazimization and Graphical Design. The Visual Display of Quantitative Information. Second edition, seventh printing. Published by Graphics Press LLC. Cheshire, Connecticut.</li>\n",
    "<li>Steven S. Skiena (2017). Chapter 6: Visualizing Data; 6.2 Developing a Visualization Aesthetic, 6.3 Chart Types, 6.4 Great Visualizations The Data Science Design Manual. Published by Springer in Cham, Switzerland.</li>\n",
    "<li>Knaflic, C. N. (2015). Storytelling with data: a data visualization guide for business professionals. Hoboken, NJ: Wiley.</li>\n",
    "</ol>\n",
    "\n",
    "### Misc. Images\n",
    "<ol>\n",
    "<li> Chart Suggestions - A Thought Starter\n",
    "Image scanned from Skiena's The Visual Display of Quantitative Information, pg. 171\n",
    "<li>'chartjunk before and after'<br>* URL: https://image.slidesharecdn.com/avoidingchartjunk-cesjune2013-130614174325-phpapp02/95/avoiding-chartjunk-18-638.jpg?cb=1371231839 </li>\n",
    "<li> Loading the Practice Datasets\n",
    "Image taken as a screenshot from scikit learn<br>\n",
    "* URL: https://scikit-learn.org/stable/datasets/index.html\n",
    "</ol>"
   ]
  }
 ],
 "metadata": {
  "kernelspec": {
   "display_name": "Python 3",
   "language": "python",
   "name": "python3"
  },
  "language_info": {
   "codemirror_mode": {
    "name": "ipython",
    "version": 3
   },
   "file_extension": ".py",
   "mimetype": "text/x-python",
   "name": "python",
   "nbconvert_exporter": "python",
   "pygments_lexer": "ipython3",
   "version": "3.7.3"
  }
 },
 "nbformat": 4,
 "nbformat_minor": 2
}
