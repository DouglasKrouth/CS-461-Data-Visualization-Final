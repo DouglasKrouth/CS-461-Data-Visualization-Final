{
 "cells": [
  {
   "cell_type": "markdown",
   "metadata": {},
   "source": [
    "# Making better graphs in Python 3 with Matplotlib and Seaborn.\n",
    "**CS 461 Sauppe, Spring 2020**<br>\n",
    "***Tutorial created by Douglas Krouth***"
   ]
  },
  {
   "cell_type": "markdown",
   "metadata": {},
   "source": [
    "<p><img src=\"Skiena_graph_guide.jpg\" align=\"left\">\n"
   ]
  },
  {
   "cell_type": "markdown",
   "metadata": {},
   "source": [
    "# Why is graph design important?\n",
    "<p>For data scientists, the creation of effective graphics and visualizations is crucial to presenting one's analysis and potential insights. The use of graphical tools allows us to simplify our work by removing unneccessary complexity; this leads to easier interpretation and a greater focus on key points.\n",
    "    \n",
    "<p>When creating a data product that will be used regularly (dashboards, interactive graphs, etc.), it is crucial to incorporate strong visuals as this will enhance user experience and the overall efficiency of the tool. Robust data graphics enable for less time to be spent on interpretation, which frees up time for further analysis or questioning on behalf of the user / audience.\n",
    "    \n",
    "<p> Without the use of well-made graphics, we run the risk of misrepresenting central parts of our analysis. On one end, a poorly made graph may just bore our audience; a graph or chart that is quickly seen and forgotten after the presentation's conclusion. On the other hand, a poorly made visual has the potential to mislead your audience or misconstrue your analysis. Both of these outcomes are suboptimal and should always be avoided.\n",
    "\n",
    "## Quick review: Five principes of effective graph design\n",
    "as written by Edward R. Tufte in *The Visual Display of Quantitative Information* [1]\n",
    "***\n",
    "\n",
    "<p>Above all else show the data. \n",
    "<img src=\"chartjunk.jpg\" width=\"250\" align=\"right\">\n",
    "<p>Maximize the data-ink ratio.\n",
    "<p>Erase non-data ink.\n",
    "<p>Erase redundant data-ink.\n",
    "<p>Revise and edit.\n"
   ]
  },
  {
   "cell_type": "markdown",
   "metadata": {},
   "source": [
    "# Let's get started\n",
    "\n",
    "Listed below are the topics that we'll go over in this tutorial:\n",
    "* [Importing the required libraries](#1)\n",
    "* [Loading the practice datasets](#2)\n",
    "* [Exploratory data analysis: summary stats. and basic Matplotlib graphs](#3)\n",
    "* [Improving our graphs using Seaborn and other tools](#4)\n",
    "* [Creating animated graphs](#5)"
   ]
  },
  {
   "cell_type": "markdown",
   "metadata": {},
   "source": [
    "## 1. Importing the required libraries<a name=\"1\"></a>\n",
    "\n",
    "***\n",
    "**pandas**: Using pandas will allow us to store our data in a DataFrame format; this will be extremely useful for quickly plotting the data and using the *pandas.describe()* function to give us some summary statistics during later steps.<br>\n",
    "* doc: https://pandas.pydata.org/docs/<br>\n",
    "* installation: https://pandas.pydata.org/pandas-docs/stable/getting_started/install.html\n",
    "***\n",
    "\n",
    "**matplotlib.pyplot**: This library is extreme useful for providing us with ready-to-go plots that can be easily modified. Matplotlib is most useful when deployed for basic plotting on things like scatter or line plots, bar charts, and histograms. We will be using this to create our exploratory visuals.<br>\n",
    "* doc: https://matplotlib.org/3.2.1/contents.html\n",
    "* installation: https://matplotlib.org/users/installing.html\n",
    "***\n",
    "\n",
    "**Seaborn**: Seaborn is a data visualization library that was based off of Matplotlib for the purpose of providing a much greater variety of visualization patterns. This tool is best used for creating statistical visualizations that require greater degrees of complexity, such as 3-D modeling or multiple visuals overlaid on the same graph.<br>\n",
    "* doc & tutorials: https://seaborn.pydata.org/tutorial.html\n",
    "* installation: https://seaborn.pydata.org/installing.html\n",
    "***\n",
    "\n",
    "**sklearn.datasets**: Using this package from scikit-learn with provide us with some toy datasets to practice our data visualizations with. I would highly recommend this library as a resource for testing all forms of data science tools as it contains 7 classic datasets which are commonly used to observe algorithmic behavior across variable circumstances. <br>\n",
    "* doc: https://scikit-learn.org/stable/datasets/index.html\n",
    "* installation: https://scikit-learn.org/stable/install.html"
   ]
  },
  {
   "cell_type": "code",
   "execution_count": 3,
   "metadata": {},
   "outputs": [],
   "source": [
    "# IMPORTS\n",
    "import pandas as pd\n",
    "import matplotlib.pyplot as plt\n",
    "import seaborn as sns\n",
    "from sklearn import datasets"
   ]
  },
  {
   "cell_type": "markdown",
   "metadata": {},
   "source": [
    "## 2. Loading the practice datasets<a name=\"2\"></a>\n",
    "***\n",
    "\n"
   ]
  },
  {
   "cell_type": "code",
   "execution_count": null,
   "metadata": {},
   "outputs": [],
   "source": []
  },
  {
   "cell_type": "markdown",
   "metadata": {},
   "source": [
    "## Exploratory data analysis: summary stats. and basic Matplotlib graphs<a name=\"3\"></a>"
   ]
  },
  {
   "cell_type": "code",
   "execution_count": null,
   "metadata": {},
   "outputs": [],
   "source": []
  },
  {
   "cell_type": "markdown",
   "metadata": {},
   "source": [
    "## Improving our graphs using Seaborn and other tools<a name=\"4\"></a>"
   ]
  },
  {
   "cell_type": "code",
   "execution_count": null,
   "metadata": {},
   "outputs": [],
   "source": []
  },
  {
   "cell_type": "markdown",
   "metadata": {},
   "source": [
    "## Creating animated graphs <a name=\"5\"></a>"
   ]
  },
  {
   "cell_type": "code",
   "execution_count": null,
   "metadata": {},
   "outputs": [],
   "source": []
  },
  {
   "cell_type": "markdown",
   "metadata": {},
   "source": [
    "# Citations\n",
    "### References\n",
    "<ol>\n",
    "<li> Edward R. Tufte (2001). Pt. 2, Ch. 4 Data-Ink and Graphical Redesign; Pt. 2, Ch.6 Data-Ink Mazimization and Graphical Design. The Visual Display of Quantitative Information. Second edition, seventh printing. Published by Graphics Press LLC. Cheshire, Connecticut.</li>\n",
    "<li>Steven S. Skiena (2017). Chapter 6: Visualizing Data; 6.2 Developing a Visualization Aesthetic, 6.3 Chart Types, 6.4 Great Visualizations The Data Science Design Manual. Published by Springer in Cham, Switzerland.</li>\n",
    "<li>Knaflic, C. N. (2015). Storytelling with data: a data visualization guide for business professionals. Hoboken, NJ: Wiley.</li>\n",
    "</ol>\n",
    "\n",
    "### Misc. Images\n",
    "<ol>\n",
    "<li> Chart Suggestions - A Thought Starter\n",
    "Image scanned from Skiena's The Visual Display of Quantitative Information, pg. 171\n",
    "<li>'chartjunk before and after'<br> https://image.slidesharecdn.com/avoidingchartjunk-cesjune2013-130614174325-phpapp02/95/avoiding-chartjunk-18-638.jpg?cb=1371231839 </li>\n",
    "</ol>"
   ]
  }
 ],
 "metadata": {
  "kernelspec": {
   "display_name": "Python 3",
   "language": "python",
   "name": "python3"
  },
  "language_info": {
   "codemirror_mode": {
    "name": "ipython",
    "version": 3
   },
   "file_extension": ".py",
   "mimetype": "text/x-python",
   "name": "python",
   "nbconvert_exporter": "python",
   "pygments_lexer": "ipython3",
   "version": "3.7.3"
  }
 },
 "nbformat": 4,
 "nbformat_minor": 2
}
